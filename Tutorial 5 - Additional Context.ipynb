{
 "cells": [
  {
   "cell_type": "markdown",
   "id": "2fa1e388-b8f4-4fa3-be5a-ba7c6caae038",
   "metadata": {
    "tags": []
   },
   "source": [
    "# Tutorial 5 - Global Context (Advanced)\n",
    "\n",
    "- Agent takes in one additional parameter: `get_global_context`\n",
    "- This is a function that takes in the agent's internal parameters (self) and outputs a string to the LLM to append to the prompts of any LLM-based calls internally, e.g. `get_next_subtask`, `use_llm`, `reply_to_user`\n",
    "- You have full flexibility to access anything the agent knows and configure a global prompt to the agent\n",
    "- This can also be used to wrap TaskGen around with a conversational interface\n",
    "\n",
    "## Uses\n",
    "- Used mainly to provide persistent variables to an agent that is not conveniently stored in `subtasks_completed`, e.g. ingredients remaining, location in grid for robot\n",
    "<br></br>\n",
    "- Implementing your own specific instructions to the default planner prompt\n",
    "    - Implement your own memory-based RAG / global prompt instruction if you need more than what the default prompt can achieve\n",
    "<br></br>\n",
    "- Avoid Multiple Similar Subtasks in `subtasks_history`\n",
    "    - If you have multiple similar subtask names, then it is likely the Agent can be confused and think it has already done the subtask\n",
    "    - In this case, you can disambiguate by resetting the agent and store the persistent information in `shared_variables` and provide it to the agent using `get_global_context`"
   ]
  },
  {
   "cell_type": "code",
   "execution_count": 1,
   "id": "db31585a-1502-490c-ae8a-c60f9dcdb73f",
   "metadata": {
    "tags": []
   },
   "outputs": [],
   "source": [
    "# !pip install taskgen-ai"
   ]
  },
  {
   "cell_type": "code",
   "execution_count": 1,
   "id": "076adf5e-beb1-4b19-9078-34ab1b7d9afe",
   "metadata": {
    "tags": []
   },
   "outputs": [
    {
     "data": {
      "text/plain": [
       "True"
      ]
     },
     "execution_count": 1,
     "metadata": {},
     "output_type": "execute_result"
    }
   ],
   "source": [
    "# Set up API key and do the necessary imports\n",
    "import os\n",
    "from taskgen import *\n",
    "import random\n",
    "\n",
    "from dotenv import load_dotenv\n",
    "load_dotenv(dotenv_path=\".env\")\n",
    "\n",
    "# os.environ['OPENAI_API_KEY'] = '<YOUR API KEY HERE>'"
   ]
  },
  {
   "cell_type": "markdown",
   "id": "383b4a92-252f-48c2-a7bf-593b8f3fa238",
   "metadata": {
    "tags": []
   },
   "source": [
    "# Example 1: AI-Powered Shop Assistant (with Conversational Style Interface)\n",
    "- This is how we can do a basic AI-powered chatbot that helps user purchase items\n",
    "- This is an illustration of how we can use global context to store chat history and other persistent variables like money remaining\n",
    "- This also provides a recap on Tutorial 4: Using memory for RAG over items in `get_related_items`"
   ]
  },
  {
   "cell_type": "code",
   "execution_count": 2,
   "id": "0f83eff0-5b87-420e-a14e-537b51f6f5f5",
   "metadata": {
    "tags": []
   },
   "outputs": [],
   "source": [
    "# gets list of items and store in memory\n",
    "item_list = [{\"Name\": \"Skateboard\", \"item_id\" : 0, \"Cost\": 30},\n",
    "            {\"Name\": \"Pizza\", \"item_id\": 1, \"Cost\": 10},\n",
    "            {\"Name\": \"Apple Laptop\", \"item_id\": 2, \"Cost\": 5000},\n",
    "            {\"Name\": \"Foldable Laptop\", \"item_id\": 3, \"Cost\": 800},\n",
    "            {\"Name\": \"Apple\", \"item_id\": 4, \"Cost\": 1},\n",
    "            {\"Name\": \"Machine Learning Textbook\", \"item_id\": 5, \"Cost\": 100},\n",
    "            {\"Name\": \"Bicycle\", \"item_id\": 6, \"Cost\": 200},\n",
    "            {\"Name\": \"Orange Juice\", \"item_id\": 7, \"Cost\": 3},\n",
    "            {\"Name\": \"Coconut\", \"item_id\": 8, \"Cost\": 10},\n",
    "            {\"Name\": \"Car\", \"item_id\": 9, \"Cost\": 100000}]\n",
    "item_memory = Memory(item_list, top_k = 3, mapper = lambda x: x, approach = 'retrieve_by_llm')"
   ]
  },
  {
   "cell_type": "code",
   "execution_count": 3,
   "id": "4c3cfc59-723d-4629-bc74-1abfb85d42d7",
   "metadata": {},
   "outputs": [],
   "source": [
    "# Here we code more of the logic needed for function mapping from conversation and current task\n",
    "# The response style to user will be handled later with strict_json\n",
    "my_agent = Agent('Shop Assistant', \n",
    "f'''An assistant to help user purchase items. \n",
    "Based on Conversation, infer what the User wants. User may not directly ask to search or purchase items, you have to infer them based on desire by User.\n",
    "- 1. End Task if not related to purchasing of items or user wants free flow conversation\n",
    "- 2. Search for relevant items according to user instruction if wants to search for an item\n",
    "- 3. Purchase item if user mentions about a specific item within `Items Searched` in `Latest User Message`, End Task otherwise''',\n",
    "                shared_variables = {'purchased_items': [], \n",
    "                                    'money_remaining': 1000, \n",
    "                                    'item_memory': item_memory,\n",
    "                                    'items_searched': [],\n",
    "                                    'conversation': []},\n",
    "                default_to_llm = False)"
   ]
  },
  {
   "cell_type": "code",
   "execution_count": 4,
   "id": "0f09db03-9ed9-4abd-ba9e-e7acfbd07bed",
   "metadata": {
    "tags": []
   },
   "outputs": [
    {
     "name": "stdout",
     "output_type": "stream",
     "text": [
      "Calling function get_related_items_by_instruction with parameters {'instruction': 'I want a car'}\n",
      "> {'List of items': [{'Name': 'Car', 'item_id': 9, 'Cost': 100000}, {'Name': 'Apple Laptop', 'item_id': 2, 'Cost': 5000}, {'Name': 'Foldable Laptop', 'item_id': 3, 'Cost': 800}]}\n",
      "\n"
     ]
    },
    {
     "data": {
      "text/plain": [
       "{'List of items': [{'Name': 'Car', 'item_id': 9, 'Cost': 100000},\n",
       "  {'Name': 'Apple Laptop', 'item_id': 2, 'Cost': 5000},\n",
       "  {'Name': 'Foldable Laptop', 'item_id': 3, 'Cost': 800}]}"
      ]
     },
     "execution_count": 4,
     "metadata": {},
     "output_type": "execute_result"
    }
   ],
   "source": [
    "def get_related_items_by_instruction(shared_variables, instruction : str):\n",
    "    ''' Returns all purchasable items related to the instruction. This step can also be done (and may be better for scaling up) by external vector databases '''\n",
    "    \n",
    "    # get all items available from memory\n",
    "    item_memory = shared_variables[\"item_memory\"]\n",
    "    \n",
    "    items_selected = item_memory.retrieve(instruction)\n",
    "    \n",
    "    # store items searched into memory if there are no duplicates\n",
    "    for item in items_selected:\n",
    "        if item not in shared_variables['items_searched']:\n",
    "            shared_variables['items_searched'].append(item)\n",
    "    \n",
    "    return items_selected\n",
    "\n",
    "my_agent.assign_functions(Function('Returns three items (item name, item_id, cost) related to the <instruction: str>. <instruction> must be item description inferred from user input. Example instructions: [\"coffee\", \"ice cream\"]', \n",
    "                 output_format = {'List of items': 'Item and cost'},\n",
    "                 external_fn = get_related_items_by_instruction))\n",
    "\n",
    "# get the agent to use the function as it contains shared_variables\n",
    "my_agent.use_function(\"get_related_items_by_instruction\", {\"instruction\": \"I want a car\"}, stateful = False)"
   ]
  },
  {
   "cell_type": "code",
   "execution_count": 5,
   "id": "39ac94c0-bf38-4c03-a7f2-5a8cfa5b8079",
   "metadata": {
    "tags": []
   },
   "outputs": [
    {
     "data": {
      "text/plain": [
       "<taskgen.agent.Agent at 0x116411d10>"
      ]
     },
     "execution_count": 5,
     "metadata": {},
     "output_type": "execute_result"
    }
   ],
   "source": [
    "def buy_item(shared_variables, item_id: int):\n",
    "    ''' Purchases the item by item id '''\n",
    "    \n",
    "    # retrieve from shared variables\n",
    "    money_remaining = shared_variables[\"money_remaining\"]\n",
    "    item_memory = shared_variables[\"item_memory\"]\n",
    "    purchased_items = shared_variables[\"purchased_items\"]\n",
    "    item_list = item_memory.memory\n",
    "    \n",
    "    # check if item_id is valid\n",
    "    if not isinstance(item_id, int) or not 0 <= item_id < len(item_list):\n",
    "        return f\"Unable to purchase. Item id selected is not within range of 0 to {len(item_list)-1}\"\n",
    "    \n",
    "    item = item_list[item_id]\n",
    "    item_name, cost = item[\"Name\"], item[\"Cost\"]\n",
    "    \n",
    "    # if too poor to purchase, let agent know\n",
    "    if cost > money_remaining:\n",
    "        return f\"Unable to purchase item. Available money ({money_remaining}) is lower than the cost price ({cost})\"\n",
    "    \n",
    "    # confirm with user before purchasing\n",
    "    user_input = input(f'\\n\\t> AI Assistant: You are about to purchase {item_name} for {cost} dollars. Proceed? Answer \"Yes\" to go ahead\\n\\t> User: ')\n",
    "    if 'yes' in user_input.lower() or 'y' in user_input.lower():\n",
    "        # otherwise, purchase it\n",
    "        money_remaining = money_remaining - cost\n",
    "        purchased_items.append(item_name)\n",
    "\n",
    "        # store in shared variables\n",
    "        shared_variables[\"money_remaining\"] = money_remaining\n",
    "        shared_variables[\"purchased_items\"] = purchased_items\n",
    "\n",
    "        return f\"Purchase successful\"\n",
    "    \n",
    "    else:\n",
    "        return f\"User did not want to purchase the item, and instead replied ```{user_input}```\"\n",
    "    \n",
    "my_agent.assign_functions(Function('Purchases item via <item_id: int>', \n",
    "                 output_format = {'Status': 'Item and cost'},\n",
    "                 external_fn = buy_item))"
   ]
  },
  {
   "cell_type": "code",
   "execution_count": 7,
   "id": "bf6551d4",
   "metadata": {},
   "outputs": [
    {
     "name": "stdout",
     "output_type": "stream",
     "text": [
      "Name: end_task\n",
      "Description: Use only when task is completed\n",
      "Input: []\n",
      "Output: {}\n",
      "\n",
      "Name: get_related_items_by_instruction\n",
      "Description: Returns three items (item name, item_id, cost) related to the <instruction: str>. <instruction> must be item description inferred from user input. Example instructions: [\"coffee\", \"ice cream\"]\n",
      "Input: ['instruction']\n",
      "Output: {'List of items': 'Item and cost'}\n",
      "\n",
      "Name: buy_item\n",
      "Description: Purchases item via <item_id: int>\n",
      "Input: ['item_id']\n",
      "Output: {'Status': 'Item and cost'}\n",
      "\n"
     ]
    }
   ],
   "source": [
    "# my_agent.reset()\n",
    "# my_agent.reply_user()\n",
    "my_agent.print_functions()"
   ]
  },
  {
   "cell_type": "markdown",
   "id": "b27ab62a-144e-4515-9f5b-dbe23bc46d74",
   "metadata": {},
   "source": [
    "## Global Context\n",
    "- Here we add in some extra information the Agent would need to make its decision\n",
    "- We add in money remaining and the list of purchased items and conversational history to the context\n",
    "- Here, we use TaskGen natively to handle the user query, but we let an llm take on the persona of Sherlock Holmes after the user query is done to reply user"
   ]
  },
  {
   "cell_type": "code",
   "execution_count": 7,
   "id": "5c92bae7-6011-41f6-8929-fe1d25f83b6e",
   "metadata": {
    "tags": []
   },
   "outputs": [],
   "source": [
    "def get_global_context(agent):\n",
    "    ''' Outputs additional information to the agent '''\n",
    "    \n",
    "    # process additional context based on shared variables \n",
    "    # (this is what is called persistent variables - variables that will be updated each step)\n",
    "    global_context = f'''User Money Remaining: ```{agent.shared_variables[\"money_remaining\"]}```\n",
    "Items Searched: ```{agent.shared_variables[\"items_searched\"]}```\n",
    "Items Purchased: ```{agent.shared_variables[\"purchased_items\"]}```\n",
    "Past Conversation: ```{agent.shared_variables[\"conversation\"]}```'''\n",
    "    \n",
    "    return global_context\n",
    "\n",
    "# assign this to agent's additional context\n",
    "my_agent.get_global_context = get_global_context"
   ]
  },
  {
   "cell_type": "code",
   "execution_count": 8,
   "id": "35af45b8-2d9c-4014-b1e1-28599256c1f0",
   "metadata": {
    "tags": []
   },
   "outputs": [
    {
     "name": "stdout",
     "output_type": "stream",
     "text": [
      "\n",
      "\t> AI Assistant: I am Sherlock Holmes, an AI Assistant to help you purchase items. What would you like me to do? Type \"done\" to conclude\n"
     ]
    },
    {
     "name": "stdout",
     "output_type": "stream",
     "text": [
      "\t> User:  I'm hungry\n"
     ]
    },
    {
     "name": "stdout",
     "output_type": "stream",
     "text": [
      "Subtask identified: Search for food items based on user's desire\n",
      "Calling function get_related_items_by_instruction with parameters {'instruction': 'food'}\n",
      "> {'List of items': [{'Name': 'Pizza', 'item_id': 1, 'Cost': 10}, {'Name': 'Orange Juice', 'item_id': 7, 'Cost': 3}, {'Name': 'Coconut', 'item_id': 8, 'Cost': 10}]}\n",
      "\n",
      "\t> AI Assistant: Ah, I have searched for food items based on your desire. The available items are: Pizza for $10, Orange Juice for $3, and Coconut for $10. Please let me know if you wish to purchase any of these items. Type \"done\" if you have no further requests.\n"
     ]
    },
    {
     "name": "stdout",
     "output_type": "stream",
     "text": [
      "\t> User:  I seek that which begins with P and ends with a\n"
     ]
    },
    {
     "name": "stdout",
     "output_type": "stream",
     "text": [
      "Subtask identified: Purchase the item if found\n",
      "Calling function buy_item with parameters {'item_id': 1}\n"
     ]
    },
    {
     "name": "stdout",
     "output_type": "stream",
     "text": [
      "\n",
      "\t> AI Assistant: You are about to purchase Pizza for 10 dollars. Proceed? Answer \"Yes\" to go ahead\n",
      "\t> User:  yes\n"
     ]
    },
    {
     "name": "stdout",
     "output_type": "stream",
     "text": [
      "> {'Status': 'Purchase successful'}\n",
      "\n",
      "\t> AI Assistant: I have successfully purchased the Pizza for $10. Pray, do you have any further requests, or shall we consider this case closed? Type \"done\" to conclude.\n"
     ]
    },
    {
     "name": "stdout",
     "output_type": "stream",
     "text": [
      "\t> User:  Well worthy of the name, Sherlock. What say you to some coffee together?\n"
     ]
    },
    {
     "name": "stdout",
     "output_type": "stream",
     "text": [
      "Subtask identified: Search for coffee.\n",
      "Calling function get_related_items_by_instruction with parameters {'instruction': 'coffee'}\n",
      "> {'List of items': [{'Name': 'Pizza', 'item_id': 1, 'Cost': 10}, {'Name': 'Orange Juice', 'item_id': 7, 'Cost': 3}, {'Name': 'Coconut', 'item_id': 8, 'Cost': 10}]}\n",
      "\n",
      "\t> AI Assistant: I have searched for coffee, but alas, it seems to be missing from our available items. Might I suggest a different selection from the list: Pizza for $10, Orange Juice for $3, or Coconut for $10. Pray, do you have any further requests, or shall we consider this case closed? Type \"done\" to conclude.\n"
     ]
    },
    {
     "name": "stdout",
     "output_type": "stream",
     "text": [
      "\t> User:  Why is there no coffee?\n"
     ]
    },
    {
     "name": "stdout",
     "output_type": "stream",
     "text": [
      "Subtask identified: Search for coffee based on user inquiry\n",
      "Calling function get_related_items_by_instruction with parameters {'instruction': 'coffee'}\n",
      "> {'List of items': [{'Name': 'Pizza', 'item_id': 1, 'Cost': 10}, {'Name': 'Orange Juice', 'item_id': 7, 'Cost': 3}, {'Name': 'Coconut', 'item_id': 8, 'Cost': 10}]}\n",
      "\n",
      "\t> AI Assistant: Ah, the absence of coffee is indeed a mystery. Might I suggest a different selection from the list: Pizza for $10, Orange Juice for $3, or Coconut for $10. Pray, do you have any further requests, or shall we consider this case closed? Type \"done\" to conclude.\n"
     ]
    },
    {
     "name": "stdout",
     "output_type": "stream",
     "text": [
      "\t> User:  done\n"
     ]
    }
   ],
   "source": [
    "persona = 'Sherlock Holmes'\n",
    "conversation = []\n",
    "max_conversation_length = 10\n",
    "starting_msg = f'I am {persona}, an AI Assistant to help you purchase items. What would you like me to do? Type \"done\" to conclude'\n",
    "conversation.append(f\"AI Assistant: {starting_msg}\")\n",
    "print('\\n\\t> AI Assistant: '+ starting_msg)\n",
    "\n",
    "my_agent.reset()\n",
    "while True:\n",
    "    # get user input\n",
    "    user_input = input('\\t> User: ')\n",
    "    if user_input == \"done\": break\n",
    "    \n",
    "    conversation.append(f\"User: {user_input}\")\n",
    "    \n",
    "    # store only past 10 conversations\n",
    "    my_agent.shared_variables['conversation'] = conversation[-max_conversation_length:]\n",
    "    # do not store the past subtasks so that we do not confuse LLM - the conversation and global context is the source of truth\n",
    "    my_agent.reset()\n",
    "    \n",
    "    # runs the agent for one subtask only (so that llm can reply user in style of persona)\n",
    "    my_agent.run(f'Latest User Message: {user_input}', num_subtasks = 1)\n",
    "    \n",
    "    # Chatbot interface which replies the user (put this outside the agent's functions to prevent agent from hallucinating with the llm)\n",
    "    res = strict_json(f'''\n",
    "Global Context: ```{get_global_context(my_agent)}```\n",
    "Subtasks done so far: ```{my_agent.subtasks_completed}```\n",
    "Reply to User Input based on Subtasks Completed so far to carry on the Conversation as AI Assistant.\n",
    "You are the one who have completed the Subtasks, inform User what you have done at the start of the reply.\n",
    "\n",
    "Do not hallucinate anything. Base everything you say on Global Context and Subtasks Completed.\n",
    "When listing items, list price as well.\n",
    "Costs are in dollars. User will have no information about item_id.\n",
    "Address User as You.\n",
    "Ask User to type \"done\" if no further requests.\n",
    "It is important to reply everything in the style of {persona}.''', \n",
    "                              user_input,\n",
    "                              output_format = {f\"Reply to User as AI Assistant\": f\"Reply in style of {persona}\"}\n",
    "    )\n",
    "    agent_reply = res[f\"Reply to User as AI Assistant\"]\n",
    "    \n",
    "    conversation.append(f\"AI Assistant: {agent_reply}\")\n",
    "    print(f'\\t> AI Assistant: {agent_reply}')"
   ]
  },
  {
   "cell_type": "markdown",
   "id": "2228ee79-0b3c-46a0-a83b-9e239034f5fb",
   "metadata": {},
   "source": [
    "# Example 2: Maze Navigator\n",
    "- We can use the additional context to let agent know present state in a 2D grid, and obstacle positions that the agent has seen\n",
    "- Task: Given current position and end position, navigate to end position using Up, Down, Left, Right"
   ]
  },
  {
   "cell_type": "code",
   "execution_count": 14,
   "id": "cd782f54-e77f-4040-8ced-49a16e3619b7",
   "metadata": {
    "tags": []
   },
   "outputs": [],
   "source": [
    "# These are the utility functions\n",
    "def generate_grid(size, start_pos, exit_pos, obstacles):\n",
    "    '''Generates a grid with obstacles'''\n",
    "    grid = [[' ' for _ in range(size)] for _ in range(size)]\n",
    "    grid[start_pos[0]][start_pos[1]] = 'S'  # Start\n",
    "    grid[exit_pos[0]][exit_pos[1]] = 'E'  # Exit\n",
    "    \n",
    "    # Mark a basic path (optional, for simplicity in ensuring a path)\n",
    "    # This part could be removed or replaced with a more sophisticated path marking\n",
    "    path = set()\n",
    "    for i in range(min(start_pos[0], exit_pos[0]), max(start_pos[0], exit_pos[0]) + 1):\n",
    "        path.add((i, start_pos[1]))\n",
    "    for j in range(min(start_pos[1], exit_pos[1]), max(start_pos[1], exit_pos[1]) + 1):\n",
    "        path.add((exit_pos[0], j))\n",
    "    \n",
    "    # Randomly add obstacles\n",
    "    count = 0\n",
    "    while count < obstacles:\n",
    "        r, c = random.randint(0, size-1), random.randint(0, size-1)\n",
    "        if (r, c) not in path and grid[r][c] != 'O' and (r, c) != start_pos and (r, c) != exit_pos:\n",
    "            grid[r][c] = 'O'\n",
    "            count += 1\n",
    "            \n",
    "    return grid\n",
    "\n",
    "def print_grid(grid):\n",
    "    '''Prints the grid'''\n",
    "    for row in grid:\n",
    "        print(' '.join(row))\n",
    "        \n",
    "def check_valid_moves(cur_pos, grid, grid_size):\n",
    "    '''Checks the valid moves in the grid given the cur_pos and grid_size. Returns list of valid moves within action space of Up, Down, Left, Right, Stay'''\n",
    "    row, col = cur_pos\n",
    "    mapping = {'Up': (-1, 0), 'Down': (1, 0), 'Left': (0, -1), 'Right': (0, 1), 'Stay': (0, 0)}\n",
    "    valid_moves = []\n",
    "    for key, value in mapping.items():\n",
    "        row_offset, col_offset = value\n",
    "        # check if valid move\n",
    "        if 0 <= row+row_offset < grid_size and 0 <= col+col_offset < grid_size and grid[row+row_offset][col+col_offset] != 'O':\n",
    "            valid_moves.append(key)\n",
    "    return valid_moves\n",
    "\n",
    "def update_obstacles(cur_pos, grid, grid_size, known_obstacle_pos):\n",
    "    '''Returns the updated known obstacle positions in the current grid given the cur_pos and grid_size'''\n",
    "    row, col = cur_pos\n",
    "    mapping = {'Up': (-1, 0), 'Down': (1, 0), 'Left': (0, -1), 'Right': (0, 1), 'Stay': (0, 0)}\n",
    "    for key, value in mapping.items():\n",
    "        row_offset, col_offset = value\n",
    "        next_row, next_col = row+row_offset, col+col_offset\n",
    "        # check if valid move\n",
    "        if 0 <= next_row < grid_size and 0 <= next_col < grid_size:\n",
    "            # adds in obstacle if observed\n",
    "            if grid[next_row][next_col] == 'O' and (next_row, next_col) not in known_obstacle_pos:\n",
    "                known_obstacle_pos.append((next_row, next_col))\n",
    "            # remove obstacle that is not observed\n",
    "            elif (next_row, next_col) in known_obstacle_pos:\n",
    "                known_obstacle_pos.remove((next_row, next_col))\n",
    "    return known_obstacle_pos"
   ]
  },
  {
   "cell_type": "code",
   "execution_count": 15,
   "id": "baf40af6-0c82-4458-bbf3-05e9e41a6bdd",
   "metadata": {},
   "outputs": [],
   "source": [
    "def move(shared_variables, action: str):\n",
    "    ''' Moves the agent according to the action and updates shared_variables '''\n",
    "    if action not in shared_variables[\"next_valid_moves\"]: \n",
    "        # if next move is not valid, reflect to agent\n",
    "        return f'The current move of {action} is not valid. You must choose one action from {shared_variables[\"next_valid_moves\"]}'\n",
    "    mapping = {'Up': (-1, 0), 'Down': (1, 0), 'Left': (0, -1), 'Right': (0, 1), 'Stay': (0, 0)}\n",
    "    \n",
    "    # Retrieve from shared variables\n",
    "    row, col = shared_variables[\"cur_pos\"]\n",
    "    grid = shared_variables[\"grid\"]\n",
    "    grid_size = shared_variables[\"grid_size\"]\n",
    "    known_obstacle_pos = shared_variables[\"known_obstacle_pos\"]\n",
    "    \n",
    "    # Do processing for the next action\n",
    "    row_offset, col_offset = mapping[action]\n",
    "    newpos = (row+row_offset, col+col_offset)\n",
    "    next_valid_moves = check_valid_moves(newpos, grid, grid_size)\n",
    "    known_obstacle_pos = update_obstacles(newpos, grid, grid_size, known_obstacle_pos)\n",
    "    \n",
    "    # shift the current agent position\n",
    "    grid[row][col] = ' '\n",
    "    grid[row+row_offset][col+col_offset] = 'S'\n",
    "    \n",
    "    # Store back into shared variables\n",
    "    shared_variables[\"cur_pos\"] = newpos\n",
    "    shared_variables[\"next_valid_moves\"] = next_valid_moves\n",
    "    shared_variables[\"known_obstacle_pos\"] = known_obstacle_pos\n",
    "    shared_variables[\"past_grid_states\"].append(newpos)\n",
    "    shared_variables[\"grid\"] = grid\n",
    "    \n",
    "    print_grid(grid)\n",
    "    \n",
    "    return f'Action successful. Agent moved from {(row, col)} to {newpos}'"
   ]
  },
  {
   "cell_type": "code",
   "execution_count": 16,
   "id": "5a42dea7-0a12-4595-bb89-9baeec09456b",
   "metadata": {},
   "outputs": [],
   "source": [
    "fn_list = [\n",
    "    Function(f'''Moves the agent by <action>. \n",
    "From initial position (x, y), this is what you end up with after doing actions\n",
    "{{'Up': (x-1, y), 'Down': (x+1, y), 'Left': (x, y-1), 'Right': (x, y+1), 'Stay': (x, y)}}''', \n",
    "             output_format = {\"Status\": \"Outcome of action\"}, external_fn = move)\n",
    "]"
   ]
  },
  {
   "cell_type": "code",
   "execution_count": 17,
   "id": "1a845b20-63f7-47eb-a7cc-296efa8e7d3a",
   "metadata": {
    "tags": []
   },
   "outputs": [],
   "source": [
    "def get_global_context(agent):\n",
    "    ''' Outputs additional information to the agent '''\n",
    "    \n",
    "    # process additional context based on shared variables (this is what is called persistent variables - variables that will be updated each step)\n",
    "    global_context = f'''Agent position in grid: {agent.shared_variables[\"cur_pos\"]}\n",
    "Exit Position: {agent.shared_variables[\"exit_pos\"]}\n",
    "Last 10 Visited Grid Positions: {agent.shared_variables[\"past_grid_states\"][:10]}\n",
    "Known Obstacle Positions: {agent.shared_variables[\"known_obstacle_pos\"]}\n",
    "Next Valid Moves: {agent.shared_variables[\"next_valid_moves\"]}'''\n",
    "    \n",
    "    # you can also influence how the planner performs the plan with additional details\n",
    "    global_context += '''For Overall Plan, list the steps in detail, highlighting the predicted start and end positions for each action\n",
    "Example Task: ```Navigate from (0, 0) to (1, 1)```\n",
    "Example Overall Plan: ```['Move Down from (0, 0) to (1, 0), 'Move Right from (1, 0) to (1, 1)']```'''\n",
    "    \n",
    "    return global_context\n",
    "\n",
    "# Customise your grid here\n",
    "# O means obstacles, S means start, E means end, blank means nothing there\n",
    "grid_size = 5  # Grid size\n",
    "start_pos = (random.randint(0, grid_size//2 - 1), random.randint(0, grid_size//2 - 1))  # Starting position\n",
    "exit_pos = (random.randint(grid_size//2, grid_size-1), random.randint(grid_size//2, grid_size-1))  # Exit position\n",
    "num_obstacles = 5  # Number of obstacles\n",
    "\n",
    "grid = generate_grid(grid_size, start_pos, exit_pos, num_obstacles)\n",
    "valid_moves = check_valid_moves(start_pos, grid, grid_size)\n",
    "\n",
    "# Assign your agent\n",
    "my_agent = Agent('Maze Navigator', \n",
    "                 f'''You are to move to the Exit Position of the maze. Task is completed when Agent's position is at Exit Position.\n",
    "At each step, you can only move Up, Down, Left, Right or Stay.\n",
    "You can only move to cells without obstacles. The valid moves will be made known to you at each time step.\n",
    "If your previous move is invalid, choose another move.\n",
    "Top left of grid is (0, 0), bottom right is {(grid_size, grid_size)}.\n",
    "Grid position is referred to by (row, col)''', \n",
    "                 shared_variables = {\n",
    "                    \"cur_pos\": start_pos,\n",
    "                    \"exit_pos\": exit_pos,\n",
    "                    \"past_grid_states\": [],\n",
    "                    \"next_valid_moves\": valid_moves,\n",
    "                    \"known_obstacle_pos\": [],\n",
    "                    \"grid_size\": grid_size,\n",
    "                    \"grid\": grid}, \n",
    "                 max_subtasks = 10,\n",
    "                 get_global_context = get_global_context, # this is something new to store persistent states\n",
    "                 default_to_llm = False).assign_functions(fn_list)"
   ]
  },
  {
   "cell_type": "code",
   "execution_count": 18,
   "id": "1f220ad7-c539-4d71-96bf-ce7dd1e09b26",
   "metadata": {
    "tags": []
   },
   "outputs": [
    {
     "name": "stdout",
     "output_type": "stream",
     "text": [
      "### Starting Grid ###\n",
      "  O      \n",
      "  S      \n",
      "    E   O\n",
      "        O\n",
      "O O      \n",
      "Subtask identified: Move Down from (1, 1) to (2, 1)\n",
      "Calling function move with parameters {'action': 'Down'}\n",
      "  O      \n",
      "         \n",
      "  S E   O\n",
      "        O\n",
      "O O      \n",
      "> {'Status': 'Action successful. Agent moved from (1, 1) to (2, 1)'}\n",
      "\n",
      "Subtask identified: Move Right from (2, 1) to (2, 2)\n",
      "Calling function move with parameters {'action': 'Right'}\n",
      "  O      \n",
      "         \n",
      "    S   O\n",
      "        O\n",
      "O O      \n",
      "> {'Status': 'Action successful. Agent moved from (2, 1) to (2, 2)'}\n",
      "\n",
      "Task completed successfully!\n",
      "\n"
     ]
    }
   ],
   "source": [
    "print('### Starting Grid ###')\n",
    "print_grid(grid)\n",
    "output = my_agent.run(f'Navigate from {start_pos} to {exit_pos}')"
   ]
  },
  {
   "cell_type": "code",
   "execution_count": 19,
   "id": "6fff506c-5ed6-45dc-8a0a-4e4215bd6da9",
   "metadata": {
    "tags": []
   },
   "outputs": [
    {
     "name": "stdout",
     "output_type": "stream",
     "text": [
      "Agent Name: Maze Navigator\n",
      "Agent Description: You are to move to the Exit Position of the maze. Task is completed when Agent's position is at Exit Position.\n",
      "At each step, you can only move Up, Down, Left, Right or Stay.\n",
      "You can only move to cells without obstacles. The valid moves will be made known to you at each time step.\n",
      "If your previous move is invalid, choose another move.\n",
      "Top left of grid is (0, 0), bottom right is (5, 5).\n",
      "Grid position is referred to by (row, col)\n",
      "Available Functions: ['end_task', 'move']\n",
      "Shared Variables: ['cur_pos', 'exit_pos', 'past_grid_states', 'next_valid_moves', 'known_obstacle_pos', 'grid_size', 'grid']\n",
      "Task: Navigate from (1, 1) to (2, 2)\n",
      "Subtasks Completed:\n",
      "Subtask: Move Down from (1, 1) to (2, 1)\n",
      "{'Status': 'Action successful. Agent moved from (1, 1) to (2, 1)'}\n",
      "\n",
      "Subtask: Move Right from (2, 1) to (2, 2)\n",
      "{'Status': 'Action successful. Agent moved from (2, 1) to (2, 2)'}\n",
      "\n",
      "Is Task Completed: True\n"
     ]
    }
   ],
   "source": [
    "my_agent.status()"
   ]
  },
  {
   "cell_type": "markdown",
   "id": "fd80b4bc-c943-4330-a140-2d170ceb861e",
   "metadata": {},
   "source": [
    "## Advanced: Avoiding Multiple Similar Subtasks\n",
    "- In the above example, we made the Agent state the start and end position along with the action for each subtask, so as to disambiguate\n",
    "- This does not work for all positions since an agent might have to repeat that transition again sometime later\n",
    "\n",
    "- Solution:\n",
    "    - Preserve only the overall state in `shared_variables` and show it to the agent via `get_global_context`\n",
    "    - Reset agent at each time step manually so `subtasks_history` will be reset"
   ]
  },
  {
   "cell_type": "code",
   "execution_count": 20,
   "id": "ab3b39ea-af44-4c35-83b0-f4386779f956",
   "metadata": {
    "tags": []
   },
   "outputs": [],
   "source": [
    "def get_global_context(agent):\n",
    "    ''' Outputs additional information to the agent '''\n",
    "    \n",
    "    # process additional context based on shared variables (this is what is called persistent variables - variables that will be updated each step)\n",
    "    global_context = f'''Agent position in grid: {agent.shared_variables[\"cur_pos\"]}\n",
    "Exit Position: {agent.shared_variables[\"exit_pos\"]}\n",
    "Last 10 Visited Grid Positions: {agent.shared_variables[\"past_grid_states\"][:10]}\n",
    "Known Obstacle Positions: {agent.shared_variables[\"known_obstacle_pos\"]}\n",
    "Next Valid Moves: {agent.shared_variables[\"next_valid_moves\"]}'''\n",
    "    \n",
    "    return global_context\n",
    "\n",
    "# Customise your grid here\n",
    "# O means obstacles, S means start, E means end, blank means nothing there\n",
    "grid_size = 5  # Grid size\n",
    "start_pos = (random.randint(0, grid_size//2 - 1), random.randint(0, grid_size//2 - 1))  # Starting position\n",
    "exit_pos = (random.randint(grid_size//2, grid_size-1), random.randint(grid_size//2, grid_size-1))  # Exit position\n",
    "num_obstacles = 5  # Number of obstacles\n",
    "\n",
    "grid = generate_grid(grid_size, start_pos, exit_pos, num_obstacles)\n",
    "valid_moves = check_valid_moves(start_pos, grid, grid_size)\n",
    "\n",
    "# Assign your agent\n",
    "my_agent = Agent('Maze Navigator', \n",
    "                 f'''You are to move to the Exit Position of the maze. Task is completed when Agent's position is at Exit Position.\n",
    "At each step, you can only move Up, Down, Left, Right or Stay.\n",
    "You can only move to cells without obstacles. The valid moves will be made known to you at each time step.\n",
    "Top left of grid is (0, 0), bottom right is {(grid_size, grid_size)}.\n",
    "Grid position is referred to by (row, col)''', \n",
    "                 shared_variables = {\n",
    "                    \"cur_pos\": start_pos,\n",
    "                    \"exit_pos\": exit_pos,\n",
    "                    \"past_grid_states\": [],\n",
    "                    \"next_valid_moves\": valid_moves,\n",
    "                    \"known_obstacle_pos\": [],\n",
    "                    \"grid_size\": grid_size,\n",
    "                    \"grid\": grid}, \n",
    "                 max_subtasks = 10,\n",
    "                 get_global_context = get_global_context, # this is something new to store persistent states\n",
    "                 default_to_llm = False).assign_functions(fn_list)"
   ]
  },
  {
   "cell_type": "code",
   "execution_count": 21,
   "id": "186b9a3c-15f9-4db2-973f-b0144236bf23",
   "metadata": {
    "tags": []
   },
   "outputs": [
    {
     "name": "stdout",
     "output_type": "stream",
     "text": [
      "### Starting Grid ###\n",
      "    O O O\n",
      "S        \n",
      "        E\n",
      "    O    \n",
      "  O      \n",
      "Subtask identified: Move Right\n",
      "Calling function move with parameters {'action': 'Right'}\n",
      "    O O O\n",
      "  S      \n",
      "        E\n",
      "    O    \n",
      "  O      \n",
      "> {'Status': 'Action successful. Agent moved from (1, 0) to (1, 1)'}\n",
      "\n",
      "Subtask identified: Move Right\n",
      "Calling function move with parameters {'action': 'Right'}\n",
      "    O O O\n",
      "    S    \n",
      "        E\n",
      "    O    \n",
      "  O      \n",
      "> {'Status': 'Action successful. Agent moved from (1, 1) to (1, 2)'}\n",
      "\n",
      "Subtask identified: Move Down\n",
      "Calling function move with parameters {'action': 'Down'}\n",
      "    O O O\n",
      "         \n",
      "    S   E\n",
      "    O    \n",
      "  O      \n",
      "> {'Status': 'Action successful. Agent moved from (1, 2) to (2, 2)'}\n",
      "\n",
      "Subtask identified: Move Right\n",
      "Calling function move with parameters {'action': 'Right'}\n",
      "    O O O\n",
      "         \n",
      "      S E\n",
      "    O    \n",
      "  O      \n",
      "> {'Status': 'Action successful. Agent moved from (2, 2) to (2, 3)'}\n",
      "\n",
      "Subtask identified: Move Right\n",
      "Calling function move with parameters {'action': 'Right'}\n",
      "    O O O\n",
      "         \n",
      "        S\n",
      "    O    \n",
      "  O      \n",
      "> {'Status': 'Action successful. Agent moved from (2, 3) to (2, 4)'}\n",
      "\n"
     ]
    }
   ],
   "source": [
    "print('### Starting Grid ###')\n",
    "print_grid(grid)\n",
    "\n",
    "num_moves = 0\n",
    "# Keep resetting subtask's history so that we don't confuse the agent due to previous moves\n",
    "# Also, if plan fails, start task from a subset of the earlier task by changing start position to current position\n",
    "while num_moves < 50:\n",
    "    my_agent.reset()\n",
    "    my_agent.run(f\"Navigate from {my_agent.shared_variables['cur_pos']} to {my_agent.shared_variables['exit_pos']}\", num_subtasks = 1)\n",
    "    # use rule-based task checks as agent may not get it right all the time\n",
    "    if my_agent.shared_variables['cur_pos'] == my_agent.shared_variables['exit_pos']: \n",
    "        my_agent.task_completed = True\n",
    "        break"
   ]
  },
  {
   "cell_type": "code",
   "execution_count": 22,
   "id": "59fc4f23-0ef1-47c1-8190-892b622aae31",
   "metadata": {
    "tags": []
   },
   "outputs": [
    {
     "name": "stdout",
     "output_type": "stream",
     "text": [
      "Agent Name: Maze Navigator\n",
      "Agent Description: You are to move to the Exit Position of the maze. Task is completed when Agent's position is at Exit Position.\n",
      "At each step, you can only move Up, Down, Left, Right or Stay.\n",
      "You can only move to cells without obstacles. The valid moves will be made known to you at each time step.\n",
      "Top left of grid is (0, 0), bottom right is (5, 5).\n",
      "Grid position is referred to by (row, col)\n",
      "Available Functions: ['end_task', 'move']\n",
      "Shared Variables: ['cur_pos', 'exit_pos', 'past_grid_states', 'next_valid_moves', 'known_obstacle_pos', 'grid_size', 'grid']\n",
      "Task: Navigate from (2, 3) to (2, 4)\n",
      "Subtasks Completed:\n",
      "Subtask: Move Right\n",
      "{'Status': 'Action successful. Agent moved from (2, 3) to (2, 4)'}\n",
      "\n",
      "Is Task Completed: True\n"
     ]
    }
   ],
   "source": [
    "my_agent.status()"
   ]
  },
  {
   "cell_type": "markdown",
   "id": "47d1b9d0-15a4-4259-b0b1-2c626fcf95c7",
   "metadata": {},
   "source": [
    "## Can we do better? (To be added)\n",
    "- LLMs are not known for their planning abilities\n",
    "- Perhaps we can use an in-built planner to decide what to do for the next moves, based on what we know of the current position, exit position, obstacle positions\n",
    "- Imbue the plan as part of global_context"
   ]
  }
 ],
 "metadata": {
  "kernelspec": {
   "display_name": "Python 3 (ipykernel)",
   "language": "python",
   "name": "python3"
  },
  "language_info": {
   "codemirror_mode": {
    "name": "ipython",
    "version": 3
   },
   "file_extension": ".py",
   "mimetype": "text/x-python",
   "name": "python",
   "nbconvert_exporter": "python",
   "pygments_lexer": "ipython3",
   "version": "3.11.7"
  }
 },
 "nbformat": 4,
 "nbformat_minor": 5
}
